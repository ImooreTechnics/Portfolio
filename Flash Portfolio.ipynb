{
 "cells": [
  {
   "cell_type": "code",
   "execution_count": 3,
   "metadata": {},
   "outputs": [
    {
     "name": "stdout",
     "output_type": "stream",
     "text": [
      "Requirement already satisfied: flask in c:\\users\\isaiah moore\\new folder\\lib\\site-packages (2.2.2)Note: you may need to restart the kernel to use updated packages.\n"
     ]
    },
    {
     "name": "stderr",
     "output_type": "stream",
     "text": [
      "  error: subprocess-exited-with-error\n",
      "  \n",
      "  × Building wheel for cx_Oracle (pyproject.toml) did not run successfully.\n",
      "  │ exit code: 1\n",
      "  ╰─> [8 lines of output]\n",
      "      <string>:6: DeprecationWarning: pkg_resources is deprecated as an API. See https://setuptools.pypa.io/en/latest/pkg_resources.html\n",
      "      C:\\Users\\Isaiah Moore\\AppData\\Local\\Temp\\pip-build-env-g8knjge_\\overlay\\Lib\\site-packages\\setuptools\\config\\expand.py:126: SetuptoolsWarning: File 'C:\\\\Users\\\\Isaiah Moore\\\\AppData\\\\Local\\\\Temp\\\\pip-install-p0q_5d_b\\\\cx-oracle_c029d184c7834131823dffdcdd6fe83f\\\\README.md' cannot be found\n",
      "        return '\\n'.join(\n",
      "      running bdist_wheel\n",
      "      running build\n",
      "      running build_ext\n",
      "      building 'cx_Oracle' extension\n",
      "      error: Microsoft Visual C++ 14.0 or greater is required. Get it with \"Microsoft C++ Build Tools\": https://visualstudio.microsoft.com/visual-cpp-build-tools/\n",
      "      [end of output]\n",
      "  \n",
      "  note: This error originates from a subprocess, and is likely not a problem with pip.\n",
      "  ERROR: Failed building wheel for cx_Oracle\n",
      "ERROR: Could not build wheels for cx_Oracle, which is required to install pyproject.toml-based projects\n"
     ]
    },
    {
     "name": "stdout",
     "output_type": "stream",
     "text": [
      "\n",
      "Collecting cx_Oracle\n",
      "  Downloading cx_Oracle-8.3.0.tar.gz (363 kB)\n",
      "     ---------------------------------------- 0.0/363.9 kB ? eta -:--:--\n",
      "     ---------------------------------------- 0.0/363.9 kB ? eta -:--:--\n",
      "     ---------------------------------------- 0.0/363.9 kB ? eta -:--:--\n",
      "     - -------------------------------------- 10.2/363.9 kB ? eta -:--:--\n",
      "     - -------------------------------------- 10.2/363.9 kB ? eta -:--:--\n",
      "     -- ----------------------------------- 20.5/363.9 kB 93.9 kB/s eta 0:00:04\n",
      "     -- ----------------------------------- 20.5/363.9 kB 93.9 kB/s eta 0:00:04\n",
      "     ------ ------------------------------ 61.4/363.9 kB 233.8 kB/s eta 0:00:02\n",
      "     ---------- ------------------------- 102.4/363.9 kB 346.5 kB/s eta 0:00:01\n",
      "     -------------------------------------  358.4/363.9 kB 1.2 MB/s eta 0:00:01\n",
      "     -------------------------------------- 363.9/363.9 kB 1.1 MB/s eta 0:00:00\n",
      "  Installing build dependencies: started\n",
      "  Installing build dependencies: finished with status 'done'\n",
      "  Getting requirements to build wheel: started\n",
      "  Getting requirements to build wheel: finished with status 'done'\n",
      "  Preparing metadata (pyproject.toml): started\n",
      "  Preparing metadata (pyproject.toml): finished with status 'done'\n",
      "Requirement already satisfied: nbconvert in c:\\users\\isaiah moore\\new folder\\lib\\site-packages (6.5.4)\n",
      "Requirement already satisfied: Werkzeug>=2.2.2 in c:\\users\\isaiah moore\\new folder\\lib\\site-packages (from flask) (2.2.3)\n",
      "Requirement already satisfied: Jinja2>=3.0 in c:\\users\\isaiah moore\\new folder\\lib\\site-packages (from flask) (3.1.2)\n",
      "Requirement already satisfied: itsdangerous>=2.0 in c:\\users\\isaiah moore\\new folder\\lib\\site-packages (from flask) (2.0.1)\n",
      "Requirement already satisfied: click>=8.0 in c:\\users\\isaiah moore\\new folder\\lib\\site-packages (from flask) (8.0.4)\n",
      "Requirement already satisfied: lxml in c:\\users\\isaiah moore\\new folder\\lib\\site-packages (from nbconvert) (4.9.3)\n",
      "Requirement already satisfied: beautifulsoup4 in c:\\users\\isaiah moore\\new folder\\lib\\site-packages (from nbconvert) (4.12.2)\n",
      "Requirement already satisfied: bleach in c:\\users\\isaiah moore\\new folder\\lib\\site-packages (from nbconvert) (4.1.0)\n",
      "Requirement already satisfied: defusedxml in c:\\users\\isaiah moore\\new folder\\lib\\site-packages (from nbconvert) (0.7.1)\n",
      "Requirement already satisfied: entrypoints>=0.2.2 in c:\\users\\isaiah moore\\new folder\\lib\\site-packages (from nbconvert) (0.4)\n",
      "Requirement already satisfied: jupyter-core>=4.7 in c:\\users\\isaiah moore\\appdata\\roaming\\python\\python311\\site-packages (from nbconvert) (5.7.2)\n",
      "Requirement already satisfied: jupyterlab-pygments in c:\\users\\isaiah moore\\new folder\\lib\\site-packages (from nbconvert) (0.1.2)\n",
      "Requirement already satisfied: MarkupSafe>=2.0 in c:\\users\\isaiah moore\\new folder\\lib\\site-packages (from nbconvert) (2.1.1)\n",
      "Requirement already satisfied: mistune<2,>=0.8.1 in c:\\users\\isaiah moore\\new folder\\lib\\site-packages (from nbconvert) (0.8.4)\n",
      "Requirement already satisfied: nbclient>=0.5.0 in c:\\users\\isaiah moore\\new folder\\lib\\site-packages (from nbconvert) (0.5.13)\n",
      "Requirement already satisfied: nbformat>=5.1 in c:\\users\\isaiah moore\\new folder\\lib\\site-packages (from nbconvert) (5.9.2)\n",
      "Requirement already satisfied: packaging in c:\\users\\isaiah moore\\appdata\\roaming\\python\\python311\\site-packages (from nbconvert) (24.0)\n",
      "Requirement already satisfied: pandocfilters>=1.4.1 in c:\\users\\isaiah moore\\new folder\\lib\\site-packages (from nbconvert) (1.5.0)\n",
      "Requirement already satisfied: pygments>=2.4.1 in c:\\users\\isaiah moore\\appdata\\roaming\\python\\python311\\site-packages (from nbconvert) (2.17.2)\n",
      "Requirement already satisfied: tinycss2 in c:\\users\\isaiah moore\\new folder\\lib\\site-packages (from nbconvert) (1.2.1)\n",
      "Requirement already satisfied: traitlets>=5.0 in c:\\users\\isaiah moore\\appdata\\roaming\\python\\python311\\site-packages (from nbconvert) (5.14.2)\n",
      "Requirement already satisfied: colorama in c:\\users\\isaiah moore\\appdata\\roaming\\python\\python311\\site-packages (from click>=8.0->flask) (0.4.6)\n",
      "Requirement already satisfied: platformdirs>=2.5 in c:\\users\\isaiah moore\\appdata\\roaming\\python\\python311\\site-packages (from jupyter-core>=4.7->nbconvert) (4.2.0)\n",
      "Requirement already satisfied: pywin32>=300 in c:\\users\\isaiah moore\\appdata\\roaming\\python\\python311\\site-packages (from jupyter-core>=4.7->nbconvert) (306)\n",
      "Requirement already satisfied: jupyter-client>=6.1.5 in c:\\users\\isaiah moore\\appdata\\roaming\\python\\python311\\site-packages (from nbclient>=0.5.0->nbconvert) (8.6.1)\n",
      "Requirement already satisfied: nest-asyncio in c:\\users\\isaiah moore\\appdata\\roaming\\python\\python311\\site-packages (from nbclient>=0.5.0->nbconvert) (1.6.0)\n",
      "Requirement already satisfied: fastjsonschema in c:\\users\\isaiah moore\\new folder\\lib\\site-packages (from nbformat>=5.1->nbconvert) (2.16.2)\n",
      "Requirement already satisfied: jsonschema>=2.6 in c:\\users\\isaiah moore\\new folder\\lib\\site-packages (from nbformat>=5.1->nbconvert) (4.17.3)\n",
      "Requirement already satisfied: soupsieve>1.2 in c:\\users\\isaiah moore\\new folder\\lib\\site-packages (from beautifulsoup4->nbconvert) (2.4)\n",
      "Requirement already satisfied: six>=1.9.0 in c:\\users\\isaiah moore\\appdata\\roaming\\python\\python311\\site-packages (from bleach->nbconvert) (1.16.0)\n",
      "Requirement already satisfied: webencodings in c:\\users\\isaiah moore\\new folder\\lib\\site-packages (from bleach->nbconvert) (0.5.1)\n",
      "Requirement already satisfied: attrs>=17.4.0 in c:\\users\\isaiah moore\\new folder\\lib\\site-packages (from jsonschema>=2.6->nbformat>=5.1->nbconvert) (22.1.0)\n",
      "Requirement already satisfied: pyrsistent!=0.17.0,!=0.17.1,!=0.17.2,>=0.14.0 in c:\\users\\isaiah moore\\new folder\\lib\\site-packages (from jsonschema>=2.6->nbformat>=5.1->nbconvert) (0.18.0)\n",
      "Requirement already satisfied: python-dateutil>=2.8.2 in c:\\users\\isaiah moore\\appdata\\roaming\\python\\python311\\site-packages (from jupyter-client>=6.1.5->nbclient>=0.5.0->nbconvert) (2.9.0.post0)\n",
      "Requirement already satisfied: pyzmq>=23.0 in c:\\users\\isaiah moore\\appdata\\roaming\\python\\python311\\site-packages (from jupyter-client>=6.1.5->nbclient>=0.5.0->nbconvert) (25.1.2)\n",
      "Requirement already satisfied: tornado>=6.2 in c:\\users\\isaiah moore\\appdata\\roaming\\python\\python311\\site-packages (from jupyter-client>=6.1.5->nbclient>=0.5.0->nbconvert) (6.4)\n",
      "Building wheels for collected packages: cx_Oracle\n",
      "  Building wheel for cx_Oracle (pyproject.toml): started\n",
      "  Building wheel for cx_Oracle (pyproject.toml): finished with status 'error'\n",
      "Failed to build cx_Oracle\n"
     ]
    }
   ],
   "source": [
    "pip install flask cx_Oracle nbconvert"
   ]
  },
  {
   "cell_type": "code",
   "execution_count": null,
   "metadata": {},
   "outputs": [
    {
     "ename": "SyntaxError",
     "evalue": "invalid syntax (1544413404.py, line 1)",
     "output_type": "error",
     "traceback": [
      "\u001b[1;36m  Cell \u001b[1;32mIn[2], line 1\u001b[1;36m\u001b[0m\n\u001b[1;33m    CREATE TABLE projects (\u001b[0m\n\u001b[1;37m           ^\u001b[0m\n\u001b[1;31mSyntaxError\u001b[0m\u001b[1;31m:\u001b[0m invalid syntax\n"
     ]
    }
   ],
   "source": []
  }
 ],
 "metadata": {
  "kernelspec": {
   "display_name": "base",
   "language": "python",
   "name": "python3"
  },
  "language_info": {
   "codemirror_mode": {
    "name": "ipython",
    "version": 3
   },
   "file_extension": ".py",
   "mimetype": "text/x-python",
   "name": "python",
   "nbconvert_exporter": "python",
   "pygments_lexer": "ipython3",
   "version": "3.11.5"
  }
 },
 "nbformat": 4,
 "nbformat_minor": 2
}
