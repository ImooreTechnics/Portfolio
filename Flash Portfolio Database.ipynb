{
 "cells": [
  {
   "cell_type": "code",
   "execution_count": 3,
   "metadata": {},
   "outputs": [],
   "source": [
    "import pandas as pd\n",
    "import numpy as np"
   ]
  },
  {
   "cell_type": "code",
   "execution_count": 2,
   "metadata": {},
   "outputs": [
    {
     "name": "stdout",
     "output_type": "stream",
     "text": [
      "Requirement already satisfied: oracledb in c:\\users\\isaiah moore\\new folder\\lib\\site-packages (2.5.1)Note: you may need to restart the kernel to use updated packages.\n",
      "\n",
      "Requirement already satisfied: cryptography>=3.2.1 in c:\\users\\isaiah moore\\new folder\\lib\\site-packages (from oracledb) (41.0.3)\n",
      "Requirement already satisfied: cffi>=1.12 in c:\\users\\isaiah moore\\new folder\\lib\\site-packages (from cryptography>=3.2.1->oracledb) (1.15.1)\n",
      "Requirement already satisfied: pycparser in c:\\users\\isaiah moore\\new folder\\lib\\site-packages (from cffi>=1.12->cryptography>=3.2.1->oracledb) (2.21)\n"
     ]
    }
   ],
   "source": [
    "pip install oracledb"
   ]
  }
 ],
 "metadata": {
  "kernelspec": {
   "display_name": "base",
   "language": "python",
   "name": "python3"
  },
  "language_info": {
   "codemirror_mode": {
    "name": "ipython",
    "version": 3
   },
   "file_extension": ".py",
   "mimetype": "text/x-python",
   "name": "python",
   "nbconvert_exporter": "python",
   "pygments_lexer": "ipython3",
   "version": "3.11.5"
  }
 },
 "nbformat": 4,
 "nbformat_minor": 2
}
